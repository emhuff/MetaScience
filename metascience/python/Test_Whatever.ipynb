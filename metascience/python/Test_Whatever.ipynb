{
 "cells": [
  {
   "cell_type": "code",
   "execution_count": 1,
   "metadata": {},
   "outputs": [],
   "source": [
    "import numpy as np\n",
    "import matplotlib.pyplot as plt\n",
    "import experiment\n",
    "import interpret\n",
    "import cosmology\n",
    "import consensus\n",
    "import pickle\n",
    "import copy\n",
    "import yaml"
   ]
  },
  {
   "cell_type": "code",
   "execution_count": 2,
   "metadata": {},
   "outputs": [
    {
     "data": {
      "text/plain": [
       "array([-0.74554926, -0.24644419, -0.09371895,  0.06109715,  0.00779505])"
      ]
     },
     "execution_count": 2,
     "metadata": {},
     "output_type": "execute_result"
    }
   ],
   "source": [
    "n_true_sys = 5\n",
    "true_sys = 1./(np.arange(n_true_sys)+1)**2 * np.random.randn(n_true_sys)\n",
    "true_sys"
   ]
  },
  {
   "cell_type": "code",
   "execution_count": 2,
   "metadata": {},
   "outputs": [],
   "source": [
    "class Configuration():\n",
    "    def __init__(self, config_file = None):\n",
    "        self.config_dict = self.read(config_file)\n",
    "        pass\n",
    "\n",
    "    def read(self, config):\n",
    "        \"\"\"\n",
    "        Reads config file into a dictionary and returns it.\n",
    "\n",
    "        Args:\n",
    "            config (str): Name of config file.\n",
    "\n",
    "        Returns:\n",
    "            config_dict (dict): Dictionary containing config information.\n",
    "        \"\"\"\n",
    "\n",
    "        with open(config, 'r') as config_file_obj:\n",
    "            config_dict = yaml.safe_load(config_file_obj)\n",
    "\n",
    "        return config_dict\n",
    "\n",
    "\n",
    "    def check_configuration(self,config):\n",
    "        '''\n",
    "        Checks that the configuration file makes sense, is compliant.\n",
    "        '''\n",
    "        necessary_params = ['consensus']#, 'experiment', 'interpreter']\n",
    "        pass"
   ]
  },
  {
   "cell_type": "code",
   "execution_count": 38,
   "metadata": {},
   "outputs": [],
   "source": [
    "test = Configuration(config_file='example.yaml')\n",
    "consensus_sim = test.config_dict['consensus']\n",
    "experiments = test.config_dict['experiments']"
   ]
  },
  {
   "cell_type": "code",
   "execution_count": 35,
   "metadata": {},
   "outputs": [
    {
     "name": "stdout",
     "output_type": "stream",
     "text": [
      "Consensus: experiment A\n",
      "<class 'numpy.ndarray'>\n",
      "{'systematics parameter values': [0.0], 'systematics parameter file': None, 'systematics description': 'no true systematics'}\n",
      "Consensus: experiment B\n",
      "<class 'numpy.ndarray'>\n",
      "{'systematics parameter values': [-0.74554926, -0.24644419, -0.09371895, 0.06109715, 0.00779505], 'systematics parameter file': None, 'systematics description': '1./(np.arange(5)+1)**2 * np.random.randn(5) -- (random numbers of gently decreasing size)'}\n"
     ]
    }
   ],
   "source": [
    "experiment_names = experiments.keys()\n",
    "for name in experiment_names:\n",
    "    print(f'Consensus: {name}')\n",
    "    kwargs = experiments[name]\n",
    "    print(type(np.array(experiments[name]['true_systematics'])))\n",
    "    print(np.array(experiments[name]['true_systematics']))"
   ]
  },
  {
   "cell_type": "code",
   "execution_count": 36,
   "metadata": {},
   "outputs": [
    {
     "name": "stdout",
     "output_type": "stream",
     "text": [
      "[0.   0.1  0.25 0.5  0.66 0.9  1.  ]\n",
      "<class 'numpy.ndarray'>\n"
     ]
    }
   ],
   "source": [
    "times = np.array(experiments['experiment A']['experimental parameters']['times'])\n",
    "print(times)\n",
    "print(type(times))"
   ]
  },
  {
   "cell_type": "code",
   "execution_count": 16,
   "metadata": {},
   "outputs": [
    {
     "data": {
      "text/plain": [
       "0.0"
      ]
     },
     "execution_count": 16,
     "metadata": {},
     "output_type": "execute_result"
    }
   ],
   "source": [
    "times[0]"
   ]
  },
  {
   "cell_type": "code",
   "execution_count": 17,
   "metadata": {},
   "outputs": [
    {
     "data": {
      "text/plain": [
       "'np.linspace(2.,8.,500)'"
      ]
     },
     "execution_count": 17,
     "metadata": {},
     "output_type": "execute_result"
    }
   ],
   "source": [
    "experiments['experiment A']['experimental parameters']['times description']"
   ]
  },
  {
   "cell_type": "code",
   "execution_count": 18,
   "metadata": {},
   "outputs": [
    {
     "data": {
      "text/plain": [
       "[0.03]"
      ]
     },
     "execution_count": 18,
     "metadata": {},
     "output_type": "execute_result"
    }
   ],
   "source": [
    "experiments['experiment A']['noise_parameters']"
   ]
  },
  {
   "cell_type": "code",
   "execution_count": 39,
   "metadata": {},
   "outputs": [
    {
     "data": {
      "text/plain": [
       "[dict_keys(['class name', 'experimental parameters', 'noise_parameters', 'true_systematics', 'interpreter']),\n",
       " dict_keys(['class name', 'experimental parameters', 'noise_parameters', 'true_systematics', 'interpreter'])]"
      ]
     },
     "execution_count": 39,
     "metadata": {},
     "output_type": "execute_result"
    }
   ],
   "source": [
    "[experiments[key].keys() for key in experiments.keys()]"
   ]
  },
  {
   "cell_type": "code",
   "execution_count": 40,
   "metadata": {},
   "outputs": [
    {
     "data": {
      "text/plain": [
       "['SimplePendulumExperiment', 'SimplePendulumExperiment']"
      ]
     },
     "execution_count": 40,
     "metadata": {},
     "output_type": "execute_result"
    }
   ],
   "source": [
    "[experiments[key]['class name'] for key in experiments.keys()]"
   ]
  },
  {
   "cell_type": "code",
   "execution_count": 23,
   "metadata": {},
   "outputs": [
    {
     "data": {
      "text/plain": [
       "'SimplePendulumExperiment'"
      ]
     },
     "execution_count": 23,
     "metadata": {},
     "output_type": "execute_result"
    }
   ],
   "source": [
    "experiments['experiment A']['class name']"
   ]
  },
  {
   "cell_type": "code",
   "execution_count": null,
   "metadata": {},
   "outputs": [],
   "source": []
  }
 ],
 "metadata": {
  "kernelspec": {
   "display_name": "Python 3",
   "language": "python",
   "name": "python3"
  },
  "language_info": {
   "codemirror_mode": {
    "name": "ipython",
    "version": 3
   },
   "file_extension": ".py",
   "mimetype": "text/x-python",
   "name": "python",
   "nbconvert_exporter": "python",
   "pygments_lexer": "ipython3",
   "version": "3.7.4"
  }
 },
 "nbformat": 4,
 "nbformat_minor": 2
}
