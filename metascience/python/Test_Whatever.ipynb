{
 "cells": [
  {
   "cell_type": "code",
   "execution_count": 1,
   "metadata": {},
   "outputs": [],
   "source": [
    "import numpy as np\n",
    "import matplotlib.pyplot as plt\n",
    "import experiment\n",
    "import interpret\n",
    "import cosmology\n",
    "import consensus\n",
    "import pickle\n",
    "import copy\n",
    "import yaml"
   ]
  },
  {
   "cell_type": "code",
   "execution_count": 2,
   "metadata": {},
   "outputs": [],
   "source": [
    "class Configuration():\n",
    "    def __init__(self, config_file = None):\n",
    "        self.config_dict = self.read(config_file)\n",
    "        pass\n",
    "\n",
    "    def read(self, config):\n",
    "        \"\"\"\n",
    "        Reads config file into a dictionary and returns it.\n",
    "\n",
    "        Args:\n",
    "            config (str): Name of config file.\n",
    "\n",
    "        Returns:\n",
    "            config_dict (dict): Dictionary containing config information.\n",
    "        \"\"\"\n",
    "\n",
    "        with open(config, 'r') as config_file_obj:\n",
    "            config_dict = yaml.safe_load(config_file_obj)\n",
    "\n",
    "        return config_dict\n",
    "\n",
    "\n",
    "    def check_configuration(self,config):\n",
    "        '''\n",
    "        Checks that the configuration file makes sense, is compliant.\n",
    "        '''\n",
    "        necessary_params = ['consensus']#, 'experiment', 'interpreter']\n",
    "        pass"
   ]
  },
  {
   "cell_type": "code",
   "execution_count": 94,
   "metadata": {},
   "outputs": [],
   "source": [
    "times_B = np.linspace(0,10,500)\n",
    "np.savetxt('times_B.txt',times_B)"
   ]
  },
  {
   "cell_type": "code",
   "execution_count": 126,
   "metadata": {},
   "outputs": [],
   "source": [
    "test = Configuration(config_file='example.yaml')\n",
    "consensus_sim = test.config_dict['consensus']\n",
    "experiments = test.config_dict['experiments']"
   ]
  },
  {
   "cell_type": "code",
   "execution_count": 97,
   "metadata": {},
   "outputs": [
    {
     "data": {
      "text/plain": [
       "'some numbers to test (was np.linspace(2.,8.,500))'"
      ]
     },
     "execution_count": 97,
     "metadata": {},
     "output_type": "execute_result"
    }
   ],
   "source": [
    "experiments['experiment A']['experimental parameters']['times description']"
   ]
  },
  {
   "cell_type": "code",
   "execution_count": 98,
   "metadata": {},
   "outputs": [
    {
     "data": {
      "text/plain": [
       "'SimplePendulumExperiment'"
      ]
     },
     "execution_count": 98,
     "metadata": {},
     "output_type": "execute_result"
    }
   ],
   "source": [
    "experiments['experiment A']['class name']"
   ]
  },
  {
   "cell_type": "code",
   "execution_count": 99,
   "metadata": {},
   "outputs": [
    {
     "data": {
      "text/plain": [
       "dict_values([[0.0, 0.1, 0.25, 0.5, 0.66, 0.9, 1.0], None, 'some numbers to test (was np.linspace(2.,8.,500))'])"
      ]
     },
     "execution_count": 99,
     "metadata": {},
     "output_type": "execute_result"
    }
   ],
   "source": [
    "experiments['experiment A']['experimental parameters'].values()"
   ]
  },
  {
   "cell_type": "code",
   "execution_count": 100,
   "metadata": {},
   "outputs": [
    {
     "data": {
      "text/plain": [
       "[[0.03], [0.1]]"
      ]
     },
     "execution_count": 100,
     "metadata": {},
     "output_type": "execute_result"
    }
   ],
   "source": [
    "[experiments[key]['noise_parameters'] for key in experiments.keys()]"
   ]
  },
  {
   "cell_type": "code",
   "execution_count": 101,
   "metadata": {},
   "outputs": [
    {
     "data": {
      "text/plain": [
       "[array([0.03]), array([0.1])]"
      ]
     },
     "execution_count": 101,
     "metadata": {},
     "output_type": "execute_result"
    }
   ],
   "source": [
    "[np.array(experiments[key]['noise_parameters']) for key in experiments.keys()]"
   ]
  },
  {
   "cell_type": "code",
   "execution_count": 131,
   "metadata": {},
   "outputs": [
    {
     "data": {
      "text/plain": [
       "[dict_keys(['times', 'times description']),\n",
       " dict_keys(['times file', 'times description'])]"
      ]
     },
     "execution_count": 131,
     "metadata": {},
     "output_type": "execute_result"
    }
   ],
   "source": [
    "# new idea: don't define keys we're not using\n",
    "times_keys = [experiments[key]['experimental parameters'].keys() for key in experiments.keys()]\n",
    "times_keys"
   ]
  },
  {
   "cell_type": "code",
   "execution_count": 132,
   "metadata": {},
   "outputs": [],
   "source": [
    "experimental_parameters = [np.array(experiments[key]['experimental parameters']['times']) if 'times' in experiments[key]['experimental parameters'].keys()\n",
    "else np.loadtxt(experiments[key]['experimental parameters']['times file']) for key in experiments.keys()]"
   ]
  },
  {
   "cell_type": "code",
   "execution_count": 133,
   "metadata": {},
   "outputs": [
    {
     "data": {
      "text/plain": [
       "array([0.  , 0.1 , 0.25, 0.5 , 0.66, 0.9 , 1.  ])"
      ]
     },
     "execution_count": 133,
     "metadata": {},
     "output_type": "execute_result"
    }
   ],
   "source": [
    "experimental_parameters[0]"
   ]
  },
  {
   "cell_type": "code",
   "execution_count": 134,
   "metadata": {},
   "outputs": [
    {
     "data": {
      "text/plain": [
       "500"
      ]
     },
     "execution_count": 134,
     "metadata": {},
     "output_type": "execute_result"
    }
   ],
   "source": [
    "len(experimental_parameters[1])"
   ]
  },
  {
   "cell_type": "code",
   "execution_count": 135,
   "metadata": {},
   "outputs": [
    {
     "data": {
      "text/plain": [
       "numpy.ndarray"
      ]
     },
     "execution_count": 135,
     "metadata": {},
     "output_type": "execute_result"
    }
   ],
   "source": [
    "type(experimental_parameters[1])"
   ]
  },
  {
   "cell_type": "code",
   "execution_count": null,
   "metadata": {},
   "outputs": [],
   "source": []
  },
  {
   "cell_type": "code",
   "execution_count": null,
   "metadata": {},
   "outputs": [],
   "source": []
  }
 ],
 "metadata": {
  "kernelspec": {
   "display_name": "Python 3",
   "language": "python",
   "name": "python3"
  },
  "language_info": {
   "codemirror_mode": {
    "name": "ipython",
    "version": 3
   },
   "file_extension": ".py",
   "mimetype": "text/x-python",
   "name": "python",
   "nbconvert_exporter": "python",
   "pygments_lexer": "ipython3",
   "version": "3.7.4"
  }
 },
 "nbformat": 4,
 "nbformat_minor": 2
}
