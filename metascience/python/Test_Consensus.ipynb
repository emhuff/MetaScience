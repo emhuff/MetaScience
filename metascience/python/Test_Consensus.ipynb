{
 "cells": [
  {
   "cell_type": "code",
   "execution_count": 1,
   "metadata": {},
   "outputs": [],
   "source": [
    "import consensus\n",
    "import interpret\n",
    "import cosmology\n",
    "import numpy as np"
   ]
  },
  {
   "cell_type": "code",
   "execution_count": 2,
   "metadata": {},
   "outputs": [
    {
     "ename": "AttributeError",
     "evalue": "type object 'CargoCultCosmology' has no attribute 'best_fit_cosmological_parameters'",
     "output_type": "error",
     "traceback": [
      "\u001b[1;31m---------------------------------------------------------------------------\u001b[0m",
      "\u001b[1;31mAttributeError\u001b[0m                            Traceback (most recent call last)",
      "\u001b[1;32m<ipython-input-2-e681163bb1ea>\u001b[0m in \u001b[0;36m<module>\u001b[1;34m\u001b[0m\n\u001b[0;32m      2\u001b[0m \u001b[0mindex\u001b[0m \u001b[1;33m=\u001b[0m \u001b[1;36m0\u001b[0m\u001b[1;33m\u001b[0m\u001b[1;33m\u001b[0m\u001b[0m\n\u001b[0;32m      3\u001b[0m \u001b[1;33m\u001b[0m\u001b[0m\n\u001b[1;32m----> 4\u001b[1;33m \u001b[0minterpreter\u001b[0m\u001b[1;33m[\u001b[0m\u001b[1;36m0\u001b[0m\u001b[1;33m]\u001b[0m \u001b[1;33m=\u001b[0m \u001b[0minterpret\u001b[0m\u001b[1;33m.\u001b[0m\u001b[0mCargoCultExperimentInterpreter\u001b[0m\u001b[1;33m(\u001b[0m\u001b[0mcosmology\u001b[0m \u001b[1;33m=\u001b[0m \u001b[0mcosmologies\u001b[0m\u001b[1;33m[\u001b[0m\u001b[0mindex\u001b[0m\u001b[1;33m]\u001b[0m\u001b[1;33m)\u001b[0m\u001b[1;33m\u001b[0m\u001b[1;33m\u001b[0m\u001b[0m\n\u001b[0m\u001b[0;32m      5\u001b[0m \u001b[0minterpreter\u001b[0m\u001b[1;33m[\u001b[0m\u001b[1;36m0\u001b[0m\u001b[1;33m]\u001b[0m\u001b[1;33m.\u001b[0m\u001b[0mchi2\u001b[0m \u001b[1;33m=\u001b[0m \u001b[1;36m1.\u001b[0m\u001b[1;33m\u001b[0m\u001b[1;33m\u001b[0m\u001b[0m\n\u001b[0;32m      6\u001b[0m \u001b[0minterpreter\u001b[0m\u001b[1;33m[\u001b[0m\u001b[1;36m1\u001b[0m\u001b[1;33m]\u001b[0m \u001b[1;33m=\u001b[0m \u001b[0minterpret\u001b[0m\u001b[1;33m.\u001b[0m\u001b[0mCargoCultExperimentInterpreter\u001b[0m\u001b[1;33m(\u001b[0m\u001b[0mcosmology\u001b[0m \u001b[1;33m=\u001b[0m \u001b[0mcosmologies\u001b[0m\u001b[1;33m[\u001b[0m\u001b[0mindex\u001b[0m\u001b[1;33m]\u001b[0m\u001b[1;33m)\u001b[0m\u001b[1;33m\u001b[0m\u001b[1;33m\u001b[0m\u001b[0m\n",
      "\u001b[1;32m~\\Documents\\Modeling in Science\\MetaScience\\metascience\\python\\interpret.py\u001b[0m in \u001b[0;36m__init__\u001b[1;34m(self, experiment, parameters, noise_parameters, prior, cosmology)\u001b[0m\n\u001b[0;32m     58\u001b[0m         \u001b[0msuper\u001b[0m\u001b[1;33m(\u001b[0m\u001b[1;33m)\u001b[0m\u001b[1;33m.\u001b[0m\u001b[0m__init__\u001b[0m\u001b[1;33m(\u001b[0m\u001b[1;33m)\u001b[0m\u001b[1;33m\u001b[0m\u001b[1;33m\u001b[0m\u001b[0m\n\u001b[0;32m     59\u001b[0m \u001b[1;33m\u001b[0m\u001b[0m\n\u001b[1;32m---> 60\u001b[1;33m         \u001b[0mself\u001b[0m\u001b[1;33m.\u001b[0m\u001b[0mbest_fit_cosmological_parameters\u001b[0m \u001b[1;33m=\u001b[0m \u001b[0mcosmology\u001b[0m\u001b[1;33m.\u001b[0m\u001b[0mbest_fit_cosmological_parameters\u001b[0m\u001b[1;33m\u001b[0m\u001b[1;33m\u001b[0m\u001b[0m\n\u001b[0m\u001b[0;32m     61\u001b[0m         \u001b[0mself\u001b[0m\u001b[1;33m.\u001b[0m\u001b[0mbest_fit_cosmological_parameter_covariance\u001b[0m \u001b[1;33m=\u001b[0m \u001b[0mcosmology\u001b[0m\u001b[1;33m.\u001b[0m\u001b[0mbest_fit_cosmological_parameter_covariance\u001b[0m\u001b[1;33m\u001b[0m\u001b[1;33m\u001b[0m\u001b[0m\n\u001b[0;32m     62\u001b[0m         \u001b[0mself\u001b[0m\u001b[1;33m.\u001b[0m\u001b[0mchi2\u001b[0m \u001b[1;33m=\u001b[0m \u001b[0mcosmology\u001b[0m\u001b[1;33m.\u001b[0m\u001b[0mchi2\u001b[0m\u001b[1;33m\u001b[0m\u001b[1;33m\u001b[0m\u001b[0m\n",
      "\u001b[1;31mAttributeError\u001b[0m: type object 'CargoCultCosmology' has no attribute 'best_fit_cosmological_parameters'"
     ]
    }
   ],
   "source": [
    "cosmologies = [cosmology.CargoCultCosmology,cosmology.CargoCultCosmology_Ones,cosmology.CargoCultCosmology_Tens]\n",
    "index = 0\n",
    "\n",
    "interpreters[0] = interpret.CargoCultExperimentInterpreter(cosmology = cosmologies[index])\n",
    "interpreters[0].chi2 = 1.\n",
    "interpreters[1] = interpret.CargoCultExperimentInterpreter(cosmology = cosmologies[index])\n",
    "interpreters[1].chi2 = 1.\n",
    "interpreters[2] = interpret.CargoCultExperimentInterpreter(cosmology = cosmologies[index])\n",
    "interpreters[2].chi2 = 4."
   ]
  },
  {
   "cell_type": "code",
   "execution_count": null,
   "metadata": {},
   "outputs": [],
   "source": [
    "print(interpreters[0].best_fit_cosmological_parameters)"
   ]
  },
  {
   "cell_type": "code",
   "execution_count": null,
   "metadata": {},
   "outputs": [],
   "source": [
    "sensible = consensus.SensibleDefaultsConsensus(interpretations = interpreters)"
   ]
  },
  {
   "cell_type": "code",
   "execution_count": null,
   "metadata": {},
   "outputs": [],
   "source": [
    "sensible.tension_metric()\n",
    "print(sensible.is_tension)\n",
    "print(sensible.tm)"
   ]
  },
  {
   "cell_type": "code",
   "execution_count": null,
   "metadata": {},
   "outputs": [],
   "source": []
  },
  {
   "cell_type": "code",
   "execution_count": null,
   "metadata": {},
   "outputs": [],
   "source": []
  },
  {
   "cell_type": "code",
   "execution_count": null,
   "metadata": {},
   "outputs": [],
   "source": []
  },
  {
   "cell_type": "code",
   "execution_count": null,
   "metadata": {},
   "outputs": [],
   "source": []
  }
 ],
 "metadata": {
  "kernelspec": {
   "display_name": "Python 3",
   "language": "python",
   "name": "python3"
  },
  "language_info": {
   "codemirror_mode": {
    "name": "ipython",
    "version": 3
   },
   "file_extension": ".py",
   "mimetype": "text/x-python",
   "name": "python",
   "nbconvert_exporter": "python",
   "pygments_lexer": "ipython3",
   "version": "3.7.4"
  }
 },
 "nbformat": 4,
 "nbformat_minor": 2
}
